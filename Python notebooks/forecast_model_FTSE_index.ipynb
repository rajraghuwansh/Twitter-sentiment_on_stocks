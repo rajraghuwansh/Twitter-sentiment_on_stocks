{
 "cells": [
  {
   "cell_type": "code",
   "execution_count": 1,
   "id": "a2b6675e",
   "metadata": {},
   "outputs": [],
   "source": [
    "import numpy as np\n",
    "import pandas as pd\n",
    "from matplotlib import pyplot as plt\n",
    "import statsmodels.api as sm\n",
    "from datetime import datetime, timedelta,date ,time"
   ]
  },
  {
   "cell_type": "markdown",
   "id": "2137c0c3",
   "metadata": {},
   "source": [
    "#### reading the files ,5min sentiment data and 1 min HF index data for period of jan-june 2022"
   ]
  },
  {
   "cell_type": "code",
   "execution_count": null,
   "id": "d1aca5f3",
   "metadata": {},
   "outputs": [],
   "source": [
    "data = pd.read_csv('mean_sentiment_df_5min_from_january.csv')\n",
    "fdata = pd.read_csv('FTSE100-1m.csv')\n",
    "fdata.columns = ['Date','price']\n",
    "sdata = data[['Date','Vader-Compound']]\n",
    "sdata['Date'] = pd.to_datetime(sdata['Date'],utc=False)\n",
    "sdata['Date'] = sdata['Date'].dt.tz_localize(None)\n",
    "fdata['Date'] = pd.to_datetime(fdata['Date'],utc=False)\n",
    "fdata = fdata.loc[fdata['Date']>='2022-01-01 00:00:00']\n",
    "sdata = sdata.loc[sdata['Date']>='2022-01-01 00:00:00']\n",
    "fdata = fdata.reset_index(drop=True)\n",
    "sdata = sdata.reset_index(drop=True)"
   ]
  },
  {
   "cell_type": "markdown",
   "id": "5720de08",
   "metadata": {},
   "source": [
    "#### creating a function to calculate log returns and higher moments"
   ]
  },
  {
   "cell_type": "code",
   "execution_count": 3,
   "id": "d6d7f963",
   "metadata": {},
   "outputs": [],
   "source": [
    "def moments_daily_frequency(data_df):\n",
    "    return_data_df = pd.DataFrame()\n",
    "    # Iterate through each day by filter (group by index date)\n",
    "    # dt.date finds the date out of the full DateTime object\n",
    "    for index, day_df in data_df.groupby(data_df.Date.dt.date):\n",
    "        #print('NEW DAY', len(day_df['Date']))\n",
    "        day_df['log_return'] = np.log(day_df['price']).diff()\n",
    "        \n",
    "        # The Moving Rolling does not take care of Nan\n",
    "        # Higher Moments based on Log-Return\n",
    "        day_df['variance'] = day_df['log_return'].rolling(5).var()\n",
    "        day_df['skewness'] = day_df['log_return'].rolling(5).skew()\n",
    "        day_df['kurtosis'] = day_df['log_return'].rolling(5).kurt()\n",
    "        \n",
    "        # Add to a new Dataframe\n",
    "        return_data_df = pd.concat([return_data_df, day_df], ignore_index=True, sort=False)\n",
    "\n",
    "    return return_data_df"
   ]
  },
  {
   "cell_type": "code",
   "execution_count": 4,
   "id": "230f28ca",
   "metadata": {},
   "outputs": [
    {
     "data": {
      "text/plain": [
       "((55101, 6), (55646, 6))"
      ]
     },
     "execution_count": 4,
     "metadata": {},
     "output_type": "execute_result"
    }
   ],
   "source": [
    "fdata_updated = moments_daily_frequency(fdata)\n",
    "fdata_final = fdata_updated.dropna()\n",
    "fdata_final = fdata_final.reset_index(drop=True)\n",
    "fdata_final.shape,fdata_updated.shape"
   ]
  },
  {
   "cell_type": "code",
   "execution_count": 5,
   "id": "5b366287",
   "metadata": {},
   "outputs": [
    {
     "data": {
      "text/plain": [
       "109"
      ]
     },
     "execution_count": 5,
     "metadata": {},
     "output_type": "execute_result"
    }
   ],
   "source": [
    "len(fdata.groupby(fdata.Date.dt.date))"
   ]
  },
  {
   "cell_type": "code",
   "execution_count": 6,
   "id": "53cf596b",
   "metadata": {},
   "outputs": [
    {
     "data": {
      "text/plain": [
       "55101"
      ]
     },
     "execution_count": 6,
     "metadata": {},
     "output_type": "execute_result"
    }
   ],
   "source": [
    "55646 -109*5"
   ]
  },
  {
   "cell_type": "code",
   "execution_count": 7,
   "id": "f68587ba",
   "metadata": {},
   "outputs": [
    {
     "data": {
      "text/html": [
       "<div>\n",
       "<style scoped>\n",
       "    .dataframe tbody tr th:only-of-type {\n",
       "        vertical-align: middle;\n",
       "    }\n",
       "\n",
       "    .dataframe tbody tr th {\n",
       "        vertical-align: top;\n",
       "    }\n",
       "\n",
       "    .dataframe thead th {\n",
       "        text-align: right;\n",
       "    }\n",
       "</style>\n",
       "<table border=\"1\" class=\"dataframe\">\n",
       "  <thead>\n",
       "    <tr style=\"text-align: right;\">\n",
       "      <th></th>\n",
       "      <th>Date</th>\n",
       "      <th>price</th>\n",
       "      <th>log_return</th>\n",
       "      <th>variance</th>\n",
       "      <th>skewness</th>\n",
       "      <th>kurtosis</th>\n",
       "    </tr>\n",
       "  </thead>\n",
       "  <tbody>\n",
       "    <tr>\n",
       "      <th>0</th>\n",
       "      <td>2022-01-04 09:05:00</td>\n",
       "      <td>7464.29</td>\n",
       "      <td>0.000192</td>\n",
       "      <td>2.643492e-07</td>\n",
       "      <td>-2.188352</td>\n",
       "      <td>4.825807</td>\n",
       "    </tr>\n",
       "    <tr>\n",
       "      <th>1</th>\n",
       "      <td>2022-01-04 09:06:00</td>\n",
       "      <td>7462.64</td>\n",
       "      <td>-0.000221</td>\n",
       "      <td>2.613445e-07</td>\n",
       "      <td>-1.568983</td>\n",
       "      <td>1.983444</td>\n",
       "    </tr>\n",
       "    <tr>\n",
       "      <th>2</th>\n",
       "      <td>2022-01-04 09:07:00</td>\n",
       "      <td>7460.41</td>\n",
       "      <td>-0.000299</td>\n",
       "      <td>7.194393e-08</td>\n",
       "      <td>-0.619158</td>\n",
       "      <td>-3.003979</td>\n",
       "    </tr>\n",
       "    <tr>\n",
       "      <th>3</th>\n",
       "      <td>2022-01-04 09:08:00</td>\n",
       "      <td>7460.88</td>\n",
       "      <td>0.000063</td>\n",
       "      <td>6.161556e-08</td>\n",
       "      <td>-0.322841</td>\n",
       "      <td>-2.650714</td>\n",
       "    </tr>\n",
       "    <tr>\n",
       "      <th>4</th>\n",
       "      <td>2022-01-04 09:09:00</td>\n",
       "      <td>7457.17</td>\n",
       "      <td>-0.000497</td>\n",
       "      <td>7.747822e-08</td>\n",
       "      <td>0.121962</td>\n",
       "      <td>-1.585160</td>\n",
       "    </tr>\n",
       "  </tbody>\n",
       "</table>\n",
       "</div>"
      ],
      "text/plain": [
       "                 Date    price  log_return      variance  skewness  kurtosis\n",
       "0 2022-01-04 09:05:00  7464.29    0.000192  2.643492e-07 -2.188352  4.825807\n",
       "1 2022-01-04 09:06:00  7462.64   -0.000221  2.613445e-07 -1.568983  1.983444\n",
       "2 2022-01-04 09:07:00  7460.41   -0.000299  7.194393e-08 -0.619158 -3.003979\n",
       "3 2022-01-04 09:08:00  7460.88    0.000063  6.161556e-08 -0.322841 -2.650714\n",
       "4 2022-01-04 09:09:00  7457.17   -0.000497  7.747822e-08  0.121962 -1.585160"
      ]
     },
     "execution_count": 7,
     "metadata": {},
     "output_type": "execute_result"
    }
   ],
   "source": [
    "fdata_final.head()"
   ]
  },
  {
   "cell_type": "markdown",
   "id": "728fa202",
   "metadata": {},
   "source": [
    "#### The log returns for the HF 1 min data for FTSE-100 is stationary"
   ]
  },
  {
   "cell_type": "code",
   "execution_count": 8,
   "id": "6abf5da1",
   "metadata": {},
   "outputs": [
    {
     "data": {
      "image/png": "[encoded data removed]",
      "text/plain": [
       "<Figure size 432x288 with 1 Axes>"
      ]
     },
     "metadata": {
      "needs_background": "light"
     },
     "output_type": "display_data"
    }
   ],
   "source": [
    "fdata_final['log_return'].plot()\n",
    "plt.grid()\n",
    "plt.ylabel('log_returns_1min')\n",
    "plt.show()"
   ]
  },
  {
   "cell_type": "code",
   "execution_count": 9,
   "id": "9cf37706",
   "metadata": {},
   "outputs": [
    {
     "data": {
      "image/png": "[encoded data removed]",
      "text/plain": [
       "<Figure size 432x288 with 1 Axes>"
      ]
     },
     "metadata": {
      "needs_background": "light"
     },
     "output_type": "display_data"
    }
   ],
   "source": [
    "plt.acorr(fdata_final['log_return'], maxlags = 30)\n",
    "plt.title(\"Autocorrelation Plot\")\n",
    "plt.xlabel(\"Lags\")\n",
    "plt.xlim(-0.5,30)\n",
    "plt.grid()\n",
    "plt.show()"
   ]
  },
  {
   "cell_type": "code",
   "execution_count": 10,
   "id": "72b0a526",
   "metadata": {},
   "outputs": [
    {
     "name": "stdout",
     "output_type": "stream",
     "text": [
      "ADF Statistic: -28.638327\n",
      "p-value: 0.000000\n",
      "Critical Values:\n",
      "\t1%: -3.430\n",
      "\t5%: -2.862\n",
      "\t10%: -2.567\n"
     ]
    }
   ],
   "source": [
    "from statsmodels.tsa.stattools import adfuller\n",
    "result = adfuller(fdata_final['log_return'])\n",
    "print('ADF Statistic: %f' % result[0])\n",
    "print('p-value: %f' % result[1])\n",
    "print('Critical Values:')\n",
    "for key, value in result[4].items():\n",
    "    print('\\t%s: %.3f' % (key, value))"
   ]
  },
  {
   "cell_type": "markdown",
   "id": "a7a9b2bc",
   "metadata": {},
   "source": [
    "#####  AR model can be applied as the log returns are stationary ,(P-value < 0.005)"
   ]
  },
  {
   "cell_type": "code",
   "execution_count": 11,
   "id": "db1d0c80",
   "metadata": {},
   "outputs": [
    {
     "data": {
      "text/plain": [
       "((55101,), (55101,))"
      ]
     },
     "execution_count": 11,
     "metadata": {},
     "output_type": "execute_result"
    }
   ],
   "source": [
    "y = fdata_final['log_return'].shift(1)\n",
    "X = fdata_final['log_return']\n",
    "y.shape,X.shape"
   ]
  },
  {
   "cell_type": "code",
   "execution_count": 41,
   "id": "e59703c4",
   "metadata": {},
   "outputs": [],
   "source": [
    "data = fdata_final['log_return']"
   ]
  },
  {
   "cell_type": "markdown",
   "id": "26773f60",
   "metadata": {},
   "source": [
    "#### THE AR(1) model is created without including the twitter sentiments"
   ]
  },
  {
   "cell_type": "code",
   "execution_count": 42,
   "id": "1c000ee5",
   "metadata": {},
   "outputs": [
    {
     "data": {
      "text/html": [
       "<table class=\"simpletable\">\n",
       "<caption>OLS Regression Results</caption>\n",
       "<tr>\n",
       "  <th>Dep. Variable:</th>       <td>log_return</td>    <th>  R-squared:         </th>  <td>   0.001</td> \n",
       "</tr>\n",
       "<tr>\n",
       "  <th>Model:</th>                   <td>OLS</td>       <th>  Adj. R-squared:    </th>  <td>   0.001</td> \n",
       "</tr>\n",
       "<tr>\n",
       "  <th>Method:</th>             <td>Least Squares</td>  <th>  F-statistic:       </th>  <td>   41.57</td> \n",
       "</tr>\n",
       "<tr>\n",
       "  <th>Date:</th>             <td>Sun, 03 Jul 2022</td> <th>  Prob (F-statistic):</th>  <td>1.15e-10</td> \n",
       "</tr>\n",
       "<tr>\n",
       "  <th>Time:</th>                 <td>00:31:32</td>     <th>  Log-Likelihood:    </th>  <td>  76406.</td> \n",
       "</tr>\n",
       "<tr>\n",
       "  <th>No. Observations:</th>      <td> 33060</td>      <th>  AIC:               </th> <td>-1.528e+05</td>\n",
       "</tr>\n",
       "<tr>\n",
       "  <th>Df Residuals:</th>          <td> 33058</td>      <th>  BIC:               </th> <td>-1.528e+05</td>\n",
       "</tr>\n",
       "<tr>\n",
       "  <th>Df Model:</th>              <td>     1</td>      <th>                     </th>      <td> </td>    \n",
       "</tr>\n",
       "<tr>\n",
       "  <th>Covariance Type:</th>      <td>nonrobust</td>    <th>                     </th>      <td> </td>    \n",
       "</tr>\n",
       "</table>\n",
       "<table class=\"simpletable\">\n",
       "<tr>\n",
       "       <td></td>         <th>coef</th>     <th>std err</th>      <th>t</th>      <th>P>|t|</th>  <th>[0.025</th>    <th>0.975]</th>  \n",
       "</tr>\n",
       "<tr>\n",
       "  <th>const</th>      <td>    0.4950</td> <td>    0.003</td> <td>  175.295</td> <td> 0.000</td> <td>    0.489</td> <td>    0.501</td>\n",
       "</tr>\n",
       "<tr>\n",
       "  <th>log_return</th> <td>    0.0354</td> <td>    0.005</td> <td>    6.447</td> <td> 0.000</td> <td>    0.025</td> <td>    0.046</td>\n",
       "</tr>\n",
       "</table>\n",
       "<table class=\"simpletable\">\n",
       "<tr>\n",
       "  <th>Omnibus:</th>       <td>8943.214</td> <th>  Durbin-Watson:     </th>  <td>   2.000</td> \n",
       "</tr>\n",
       "<tr>\n",
       "  <th>Prob(Omnibus):</th>  <td> 0.000</td>  <th>  Jarque-Bera (JB):  </th> <td>927004.189</td>\n",
       "</tr>\n",
       "<tr>\n",
       "  <th>Skew:</th>           <td>-0.099</td>  <th>  Prob(JB):          </th>  <td>    0.00</td> \n",
       "</tr>\n",
       "<tr>\n",
       "  <th>Kurtosis:</th>       <td>28.941</td>  <th>  Cond. No.          </th>  <td>    52.6</td> \n",
       "</tr>\n",
       "</table><br/><br/>Notes:<br/>[1] Standard Errors assume that the covariance matrix of the errors is correctly specified."
      ],
      "text/plain": [
       "<class 'statsmodels.iolib.summary.Summary'>\n",
       "\"\"\"\n",
       "                            OLS Regression Results                            \n",
       "==============================================================================\n",
       "Dep. Variable:             log_return   R-squared:                       0.001\n",
       "Model:                            OLS   Adj. R-squared:                  0.001\n",
       "Method:                 Least Squares   F-statistic:                     41.57\n",
       "Date:                Sun, 03 Jul 2022   Prob (F-statistic):           1.15e-10\n",
       "Time:                        00:31:32   Log-Likelihood:                 76406.\n",
       "No. Observations:               33060   AIC:                        -1.528e+05\n",
       "Df Residuals:                   33058   BIC:                        -1.528e+05\n",
       "Df Model:                           1                                         \n",
       "Covariance Type:            nonrobust                                         \n",
       "==============================================================================\n",
       "                 coef    std err          t      P>|t|      [0.025      0.975]\n",
       "------------------------------------------------------------------------------\n",
       "const          0.4950      0.003    175.295      0.000       0.489       0.501\n",
       "log_return     0.0354      0.005      6.447      0.000       0.025       0.046\n",
       "==============================================================================\n",
       "Omnibus:                     8943.214   Durbin-Watson:                   2.000\n",
       "Prob(Omnibus):                  0.000   Jarque-Bera (JB):           927004.189\n",
       "Skew:                          -0.099   Prob(JB):                         0.00\n",
       "Kurtosis:                      28.941   Cond. No.                         52.6\n",
       "==============================================================================\n",
       "\n",
       "Notes:\n",
       "[1] Standard Errors assume that the covariance matrix of the errors is correctly specified.\n",
       "\"\"\""
      ]
     },
     "execution_count": 42,
     "metadata": {},
     "output_type": "execute_result"
    }
   ],
   "source": [
    "#Scale the data\n",
    "data_scaled = (data-data.min())/(data.max()-data.min())\n",
    "\n",
    "#Add constant c\n",
    "data_scaled = sm.add_constant(data_scaled)\n",
    "\n",
    "#Split train and test sets\n",
    "split = int(0.60 * data.shape[0])\n",
    "X = data_scaled\n",
    "y = data_scaled.shift(-1)['log_return']\n",
    "X_train, X_test = X[:split], X[split:-1]\n",
    "y_train, y_test = y[:split], y[split:-1]\n",
    "results = sm.OLS(y_train, X_train).fit()\n",
    "results.summary()"
   ]
  },
  {
   "cell_type": "code",
   "execution_count": 43,
   "id": "ee18fab6",
   "metadata": {},
   "outputs": [
    {
     "data": {
      "image/png": "[encoded data removed]",
      "text/plain": [
       "<Figure size 1008x360 with 2 Axes>"
      ]
     },
     "metadata": {
      "needs_background": "light"
     },
     "output_type": "display_data"
    },
    {
     "data": {
      "image/png": "[encoded data removed]",
      "text/plain": [
       "<Figure size 432x288 with 1 Axes>"
      ]
     },
     "metadata": {
      "needs_background": "light"
     },
     "output_type": "display_data"
    }
   ],
   "source": [
    "# Perform out of sample prediction\n",
    "y_hat = results.predict(X_test)\n",
    "\n",
    "plt.figure(figsize = (14,5))\n",
    "\n",
    "#Predicted RV\n",
    "plt.subplot(1,2,1)\n",
    "plt.plot(y_test.index, y_hat)\n",
    "plt.title(\"Predicted log_returns\")\n",
    "\n",
    "#Actual RV\n",
    "plt.subplot(1,2,2)\n",
    "plt.plot(y_test.index, y_test, color = \"orange\")\n",
    "plt.title(\"Actual log_returns\")\n",
    "plt.show()\n",
    "\n",
    "plt.scatter(y_test, y_hat)\n",
    "plt.title(\"Predicted vs observed log_returns\")\n",
    "plt.show()"
   ]
  },
  {
   "cell_type": "code",
   "execution_count": 44,
   "id": "51b09693",
   "metadata": {},
   "outputs": [
    {
     "name": "stdout",
     "output_type": "stream",
     "text": [
      "In-sample scores\n",
      "MSE:0.0005755641072158104, R^2:0.0012558310639728676, MAE:0.015555225997237925\n",
      "----------------\n",
      "Out-of-sample scores\n",
      "MSE:0.00033698205078865794, R^2:0.005141952060602195, MAE:0.012880831993639182\n"
     ]
    }
   ],
   "source": [
    "# Metrics\n",
    "def score(y_hat, y, metric):\n",
    "    if metric == \"MSE\": \n",
    "        return np.mean( (y_hat-y)**2)\n",
    "    elif metric == \"R_squared\":\n",
    "        ss_res = np.sum( (y - y_hat)**2 )\n",
    "        ss_tot = np.sum( (y - np.average(y)) **2)\n",
    "        return 1 - ss_res/ss_tot\n",
    "    elif metric == \"MAE\":\n",
    "        return np.mean( np.abs(y-y_hat))\n",
    "#In-sample scores\n",
    "print(\"In-sample scores\")\n",
    "\n",
    "y_hat_is = results.predict(X_train)\n",
    "mse_is = score(y_hat_is, y_train.values.ravel(), \"MSE\")\n",
    "r_sq_is = score(y_hat_is, y_train.values.ravel(), \"R_squared\")\n",
    "mae_is = score(y_hat_is, y_train.values.ravel(), \"MAE\")\n",
    "\n",
    "print(f\"MSE:{mse_is}, R^2:{r_sq_is}, MAE:{mae_is}\")      \n",
    "\n",
    "print(\"----------------\")\n",
    "               \n",
    "#Out-of-sample scores\n",
    "print(\"Out-of-sample scores\")\n",
    "               \n",
    "mse_oos = score(y_hat, y_test.values.ravel(), \"MSE\")\n",
    "r_sq_oos = score(y_hat, y_test.values.ravel(), \"R_squared\")\n",
    "mae_oos = score(y_hat, y_test.values.ravel(), \"MAE\")\n",
    "\n",
    "print(f\"MSE:{mse_oos}, R^2:{r_sq_oos}, MAE:{mae_oos}\")"
   ]
  },
  {
   "cell_type": "code",
   "execution_count": 45,
   "id": "cf824631",
   "metadata": {},
   "outputs": [
    {
     "data": {
      "text/plain": [
       "((55101, 2), (55101,))"
      ]
     },
     "execution_count": 45,
     "metadata": {},
     "output_type": "execute_result"
    }
   ],
   "source": [
    "X.shape,y.shape"
   ]
  },
  {
   "cell_type": "markdown",
   "id": "c95945e2",
   "metadata": {},
   "source": [
    "##### HAR Model"
   ]
  },
  {
   "cell_type": "code",
   "execution_count": 46,
   "id": "299a9075",
   "metadata": {},
   "outputs": [
    {
     "name": "stdout",
     "output_type": "stream",
     "text": [
      "(55079, 2) (55079,)\n"
     ]
    },
    {
     "data": {
      "text/html": [
       "<table class=\"simpletable\">\n",
       "<caption>OLS Regression Results</caption>\n",
       "<tr>\n",
       "  <th>Dep. Variable:</th>       <td>log_return</td>    <th>  R-squared:         </th>  <td>   0.000</td> \n",
       "</tr>\n",
       "<tr>\n",
       "  <th>Model:</th>                   <td>OLS</td>       <th>  Adj. R-squared:    </th>  <td>   0.000</td> \n",
       "</tr>\n",
       "<tr>\n",
       "  <th>Method:</th>             <td>Least Squares</td>  <th>  F-statistic:       </th>  <td>   5.450</td> \n",
       "</tr>\n",
       "<tr>\n",
       "  <th>Date:</th>             <td>Sun, 03 Jul 2022</td> <th>  Prob (F-statistic):</th>  <td>0.000962</td> \n",
       "</tr>\n",
       "<tr>\n",
       "  <th>Time:</th>                 <td>00:31:49</td>     <th>  Log-Likelihood:    </th>  <td>  76368.</td> \n",
       "</tr>\n",
       "<tr>\n",
       "  <th>No. Observations:</th>      <td> 33047</td>      <th>  AIC:               </th> <td>-1.527e+05</td>\n",
       "</tr>\n",
       "<tr>\n",
       "  <th>Df Residuals:</th>          <td> 33043</td>      <th>  BIC:               </th> <td>-1.527e+05</td>\n",
       "</tr>\n",
       "<tr>\n",
       "  <th>Df Model:</th>              <td>     3</td>      <th>                     </th>      <td> </td>    \n",
       "</tr>\n",
       "<tr>\n",
       "  <th>Covariance Type:</th>      <td>nonrobust</td>    <th>                     </th>      <td> </td>    \n",
       "</tr>\n",
       "</table>\n",
       "<table class=\"simpletable\">\n",
       "<tr>\n",
       "    <td></td>       <th>coef</th>     <th>std err</th>      <th>t</th>      <th>P>|t|</th>  <th>[0.025</th>    <th>0.975]</th>  \n",
       "</tr>\n",
       "<tr>\n",
       "  <th>const</th> <td>    0.5089</td> <td>    0.013</td> <td>   39.567</td> <td> 0.000</td> <td>    0.484</td> <td>    0.534</td>\n",
       "</tr>\n",
       "<tr>\n",
       "  <th>x1</th>    <td>   -0.0021</td> <td>    0.006</td> <td>   -0.371</td> <td> 0.711</td> <td>   -0.013</td> <td>    0.009</td>\n",
       "</tr>\n",
       "<tr>\n",
       "  <th>x2</th>    <td>    0.0108</td> <td>    0.003</td> <td>    3.939</td> <td> 0.000</td> <td>    0.005</td> <td>    0.016</td>\n",
       "</tr>\n",
       "<tr>\n",
       "  <th>x3</th>    <td>   -0.0020</td> <td>    0.001</td> <td>   -1.478</td> <td> 0.139</td> <td>   -0.005</td> <td>    0.001</td>\n",
       "</tr>\n",
       "</table>\n",
       "<table class=\"simpletable\">\n",
       "<tr>\n",
       "  <th>Omnibus:</th>       <td>8858.680</td> <th>  Durbin-Watson:     </th>  <td>   1.947</td> \n",
       "</tr>\n",
       "<tr>\n",
       "  <th>Prob(Omnibus):</th>  <td> 0.000</td>  <th>  Jarque-Bera (JB):  </th> <td>886920.997</td>\n",
       "</tr>\n",
       "<tr>\n",
       "  <th>Skew:</th>           <td>-0.090</td>  <th>  Prob(JB):          </th>  <td>    0.00</td> \n",
       "</tr>\n",
       "<tr>\n",
       "  <th>Kurtosis:</th>       <td>28.379</td>  <th>  Cond. No.          </th>  <td>1.14e+03</td> \n",
       "</tr>\n",
       "</table><br/><br/>Notes:<br/>[1] Standard Errors assume that the covariance matrix of the errors is correctly specified.<br/>[2] The condition number is large, 1.14e+03. This might indicate that there are<br/>strong multicollinearity or other numerical problems."
      ],
      "text/plain": [
       "<class 'statsmodels.iolib.summary.Summary'>\n",
       "\"\"\"\n",
       "                            OLS Regression Results                            \n",
       "==============================================================================\n",
       "Dep. Variable:             log_return   R-squared:                       0.000\n",
       "Model:                            OLS   Adj. R-squared:                  0.000\n",
       "Method:                 Least Squares   F-statistic:                     5.450\n",
       "Date:                Sun, 03 Jul 2022   Prob (F-statistic):           0.000962\n",
       "Time:                        00:31:49   Log-Likelihood:                 76368.\n",
       "No. Observations:               33047   AIC:                        -1.527e+05\n",
       "Df Residuals:                   33043   BIC:                        -1.527e+05\n",
       "Df Model:                           3                                         \n",
       "Covariance Type:            nonrobust                                         \n",
       "==============================================================================\n",
       "                 coef    std err          t      P>|t|      [0.025      0.975]\n",
       "------------------------------------------------------------------------------\n",
       "const          0.5089      0.013     39.567      0.000       0.484       0.534\n",
       "x1            -0.0021      0.006     -0.371      0.711      -0.013       0.009\n",
       "x2             0.0108      0.003      3.939      0.000       0.005       0.016\n",
       "x3            -0.0020      0.001     -1.478      0.139      -0.005       0.001\n",
       "==============================================================================\n",
       "Omnibus:                     8858.680   Durbin-Watson:                   1.947\n",
       "Prob(Omnibus):                  0.000   Jarque-Bera (JB):           886920.997\n",
       "Skew:                          -0.090   Prob(JB):                         0.00\n",
       "Kurtosis:                      28.379   Cond. No.                     1.14e+03\n",
       "==============================================================================\n",
       "\n",
       "Notes:\n",
       "[1] Standard Errors assume that the covariance matrix of the errors is correctly specified.\n",
       "[2] The condition number is large, 1.14e+03. This might indicate that there are\n",
       "strong multicollinearity or other numerical problems.\n",
       "\"\"\""
      ]
     },
     "execution_count": 46,
     "metadata": {},
     "output_type": "execute_result"
    }
   ],
   "source": [
    "def get_lag(data):\n",
    "    lag_data = []\n",
    "    for i in range(1,23):\n",
    "        temp = data.shift(i)\n",
    "        lag_data.append(temp)\n",
    "\n",
    "    ldf = pd.DataFrame(lag_data)\n",
    "    ldf = ldf.T\n",
    "    ldf.columns = [\"lag\"+ str(i) for i in range(1,23)]\n",
    "    ldf.reset_index(drop=True,inplace=True)\n",
    "    ldf = ldf.iloc[22:,:]\n",
    "    return ldf\n",
    "\n",
    "data_scaled = (data-data.min())/(data.max()-data.min())\n",
    "ldf = get_lag(data_scaled)\n",
    "#print(ldf)\n",
    "data_scaled = sm.add_constant(data_scaled)\n",
    "X = data_scaled\n",
    "X2 = ldf.iloc[:,:5].sum(axis=1)\n",
    "X22 = ldf.iloc[:,:22].sum(axis=1)\n",
    "X2 = X2[:len(X22)]\n",
    "X = X[:len(X22)]\n",
    "X = np.array(X)\n",
    "X2 = np.array(X2)\n",
    "X22 = np.array(X22)\n",
    "X_tot = np.column_stack((X,X2,X22))\n",
    "#X_tot = X_tot[:-1,:]\n",
    "y = data_scaled.shift(-22)['log_return']\n",
    "y = y.dropna()\n",
    "print(X.shape,y.shape)\n",
    "split = int(0.60 * X_tot.shape[0])\n",
    "X_train, X_test = X_tot[:split], X_tot[split:]\n",
    "y_train, y_test = y[:split], y[split:]\n",
    "results = sm.OLS(y_train, X_train).fit()\n",
    "results.summary()"
   ]
  },
  {
   "cell_type": "code",
   "execution_count": 47,
   "id": "e55c5994",
   "metadata": {},
   "outputs": [
    {
     "data": {
      "image/png": "[encoded data removed]",
      "text/plain": [
       "<Figure size 1008x360 with 2 Axes>"
      ]
     },
     "metadata": {
      "needs_background": "light"
     },
     "output_type": "display_data"
    },
    {
     "data": {
      "image/png": "[encoded data removed]",
      "text/plain": [
       "<Figure size 432x288 with 1 Axes>"
      ]
     },
     "metadata": {
      "needs_background": "light"
     },
     "output_type": "display_data"
    }
   ],
   "source": [
    "# Perform out of sample prediction\n",
    "y_hat = results.predict(X_test)\n",
    "\n",
    "plt.figure(figsize = (14,5))\n",
    "\n",
    "#Predicted RV\n",
    "plt.subplot(1,2,1)\n",
    "plt.plot(y_test.index, y_hat)\n",
    "plt.title(\"Predicted log_returns\")\n",
    "\n",
    "#Actual RV\n",
    "plt.subplot(1,2,2)\n",
    "plt.plot(y_test.index, y_test, color = \"orange\")\n",
    "plt.title(\"Actual log_returns\")\n",
    "plt.show()\n",
    "\n",
    "plt.scatter(y_test, y_hat)\n",
    "plt.title(\"Predicted vs observed log_returns\")\n",
    "plt.show()"
   ]
  },
  {
   "cell_type": "code",
   "execution_count": 48,
   "id": "3d5b773c",
   "metadata": {},
   "outputs": [
    {
     "name": "stdout",
     "output_type": "stream",
     "text": [
      "In-sample scores\n",
      "MSE:0.0005758649325606216, R^2:0.0004946043505024145, MAE:0.015567985978606874\n",
      "----------------\n",
      "Out-of-sample scores\n",
      "MSE:0.00033825043562608914, R^2:0.0016747788435770294, MAE:0.012905412129276256\n"
     ]
    }
   ],
   "source": [
    "# Metrics\n",
    "def score(y_hat, y, metric):\n",
    "    if metric == \"MSE\": \n",
    "        return np.mean( (y_hat-y)**2)\n",
    "    elif metric == \"R_squared\":\n",
    "        ss_res = np.sum( (y - y_hat)**2 )\n",
    "        ss_tot = np.sum( (y - np.average(y)) **2)\n",
    "        return 1 - ss_res/ss_tot\n",
    "    elif metric == \"MAE\":\n",
    "        return np.mean( np.abs(y-y_hat))\n",
    "#In-sample scores\n",
    "print(\"In-sample scores\")\n",
    "\n",
    "y_hat_is = results.predict(X_train)\n",
    "mse_is = score(y_hat_is, y_train.values.ravel(), \"MSE\")\n",
    "r_sq_is = score(y_hat_is, y_train.values.ravel(), \"R_squared\")\n",
    "mae_is = score(y_hat_is, y_train.values.ravel(), \"MAE\")\n",
    "\n",
    "print(f\"MSE:{mse_is}, R^2:{r_sq_is}, MAE:{mae_is}\")      \n",
    "\n",
    "print(\"----------------\")\n",
    "               \n",
    "#Out-of-sample scores\n",
    "print(\"Out-of-sample scores\")\n",
    "               \n",
    "mse_oos = score(y_hat, y_test.values.ravel(), \"MSE\")\n",
    "r_sq_oos = score(y_hat, y_test.values.ravel(), \"R_squared\")\n",
    "mae_oos = score(y_hat, y_test.values.ravel(), \"MAE\")\n",
    "\n",
    "print(f\"MSE:{mse_oos}, R^2:{r_sq_oos}, MAE:{mae_oos}\")"
   ]
  },
  {
   "cell_type": "markdown",
   "id": "52ace75a",
   "metadata": {},
   "source": [
    "#### Adding the twitter sentiment component to the HAR model"
   ]
  },
  {
   "cell_type": "code",
   "execution_count": 20,
   "id": "469769f5",
   "metadata": {},
   "outputs": [],
   "source": [
    "### cleaning the sentiment data for out of cstock time window \n",
    "### appennding the sentiment of after 3pm tweets to next data stock sentiment for each of the trading day from jan-june 2022\n",
    "\n",
    "sdata_shifted = sdata.copy()\n",
    "sdata_shifted['Date'] = sdata['Date'] + timedelta( hours=5 )\n",
    "out_of_time = []\n",
    "in_time_sdata = pd.DataFrame()\n",
    "for index,day_df in sdata_shifted.groupby(sdata_shifted.Date.dt.date):\n",
    "    l =[]\n",
    "    temp1 = day_df.loc[(day_df['Date'].dt.time < time(9,00,00))]\n",
    "    temp2 = day_df.loc[(day_df['Date'].dt.time > time(15,00,00))]\n",
    "    m1 = temp1['Vader-Compound'].mean()\n",
    "    m2 = temp2['Vader-Compound'].mean()\n",
    "    out_of_time.append([m1,m2])\n",
    "    temp_df = day_df.loc[(day_df['Date'].dt.time >= time(9,00,00)) & (day_df['Date'].dt.time <= time(15,00,00))]\n",
    "    in_time_sdata = pd.concat([in_time_sdata,temp_df])\n",
    "means = []\n",
    "means.append(out_of_time[0][0])\n",
    "for idx in range(len(out_of_time)):\n",
    "    v1 = out_of_time[idx][0]\n",
    "    v2 = out_of_time[idx-1][1]\n",
    "    val = (v1+v2)/2.0\n",
    "    means.append(val)  \n",
    "l = [x for x in means if ~np.isnan(x)]\n",
    "ct = 0\n",
    "for index,day_df in in_time_sdata.groupby(in_time_sdata.Date.dt.date):\n",
    "    day_df['Vader-Compound']+=l[ct]\n",
    "    ct+=1"
   ]
  },
  {
   "cell_type": "code",
   "execution_count": 21,
   "id": "33e53056",
   "metadata": {},
   "outputs": [],
   "source": [
    "in_time_fdata = pd.DataFrame()\n",
    "for index,day_df in fdata.groupby(fdata.Date.dt.date):\n",
    "    temp_df = day_df.loc[(day_df['Date'].dt.time >= time(9,00,00)) & (day_df['Date'].dt.time <= time(15,00,00))]\n",
    "    in_time_fdata = pd.concat([in_time_fdata,temp_df])\n",
    "in_time_fdata_min5 = in_time_fdata.groupby(pd.Grouper(key = 'Date',freq='5min')).agg({\"price\":\"last\"})\n",
    "in_time_fdata_min5 = in_time_fdata_min5.reset_index()"
   ]
  },
  {
   "cell_type": "code",
   "execution_count": 22,
   "id": "2f5ea98d",
   "metadata": {},
   "outputs": [],
   "source": [
    "in_time_sdata = in_time_sdata.reset_index(drop=True)\n",
    "in_time_fdata_min5 = in_time_fdata_min5.reset_index(drop=True)"
   ]
  },
  {
   "cell_type": "code",
   "execution_count": 28,
   "id": "2bc63ae1",
   "metadata": {},
   "outputs": [],
   "source": [
    "combined_df = pd.merge(in_time_fdata_min5,in_time_sdata,on='Date')"
   ]
  },
  {
   "cell_type": "code",
   "execution_count": 29,
   "id": "8ae54b0e",
   "metadata": {},
   "outputs": [
    {
     "name": "stderr",
     "output_type": "stream",
     "text": [
      "C:\\Users\\rkroc\\Anaconda3\\lib\\site-packages\\pandas\\core\\window\\rolling.py:455: RuntimeWarning: All-NaN slice encountered\n",
      "  return func(x, start, end, min_periods)\n"
     ]
    }
   ],
   "source": [
    "final_df = moments_daily_frequency(combined_df)\n",
    "final_df = final_df.dropna()\n",
    "final_df = final_df.reset_index(drop=True)"
   ]
  },
  {
   "cell_type": "code",
   "execution_count": 30,
   "id": "5060e255",
   "metadata": {},
   "outputs": [
    {
     "data": {
      "text/html": [
       "<div>\n",
       "<style scoped>\n",
       "    .dataframe tbody tr th:only-of-type {\n",
       "        vertical-align: middle;\n",
       "    }\n",
       "\n",
       "    .dataframe tbody tr th {\n",
       "        vertical-align: top;\n",
       "    }\n",
       "\n",
       "    .dataframe thead th {\n",
       "        text-align: right;\n",
       "    }\n",
       "</style>\n",
       "<table border=\"1\" class=\"dataframe\">\n",
       "  <thead>\n",
       "    <tr style=\"text-align: right;\">\n",
       "      <th></th>\n",
       "      <th>Date</th>\n",
       "      <th>price</th>\n",
       "      <th>Vader-Compound</th>\n",
       "      <th>log_return</th>\n",
       "      <th>variance</th>\n",
       "      <th>skewness</th>\n",
       "      <th>kurtosis</th>\n",
       "    </tr>\n",
       "  </thead>\n",
       "  <tbody>\n",
       "    <tr>\n",
       "      <th>0</th>\n",
       "      <td>2022-01-04 09:25:00</td>\n",
       "      <td>7465.89</td>\n",
       "      <td>0.29295</td>\n",
       "      <td>-0.000591</td>\n",
       "      <td>7.295352e-07</td>\n",
       "      <td>0.854009</td>\n",
       "      <td>0.236416</td>\n",
       "    </tr>\n",
       "    <tr>\n",
       "      <th>1</th>\n",
       "      <td>2022-01-04 09:30:00</td>\n",
       "      <td>7468.29</td>\n",
       "      <td>0.00000</td>\n",
       "      <td>0.000321</td>\n",
       "      <td>5.071441e-07</td>\n",
       "      <td>0.601678</td>\n",
       "      <td>1.561655</td>\n",
       "    </tr>\n",
       "    <tr>\n",
       "      <th>2</th>\n",
       "      <td>2022-01-04 09:35:00</td>\n",
       "      <td>7475.91</td>\n",
       "      <td>0.34540</td>\n",
       "      <td>0.001020</td>\n",
       "      <td>5.681105e-07</td>\n",
       "      <td>-0.470945</td>\n",
       "      <td>0.004838</td>\n",
       "    </tr>\n",
       "    <tr>\n",
       "      <th>3</th>\n",
       "      <td>2022-01-04 09:40:00</td>\n",
       "      <td>7480.16</td>\n",
       "      <td>0.00000</td>\n",
       "      <td>0.000568</td>\n",
       "      <td>3.452640e-07</td>\n",
       "      <td>-0.958749</td>\n",
       "      <td>2.067762</td>\n",
       "    </tr>\n",
       "    <tr>\n",
       "      <th>4</th>\n",
       "      <td>2022-01-04 09:45:00</td>\n",
       "      <td>7482.55</td>\n",
       "      <td>0.00000</td>\n",
       "      <td>0.000319</td>\n",
       "      <td>3.450295e-07</td>\n",
       "      <td>-0.881375</td>\n",
       "      <td>1.908226</td>\n",
       "    </tr>\n",
       "    <tr>\n",
       "      <th>...</th>\n",
       "      <td>...</td>\n",
       "      <td>...</td>\n",
       "      <td>...</td>\n",
       "      <td>...</td>\n",
       "      <td>...</td>\n",
       "      <td>...</td>\n",
       "      <td>...</td>\n",
       "    </tr>\n",
       "    <tr>\n",
       "      <th>7396</th>\n",
       "      <td>2022-06-10 14:40:00</td>\n",
       "      <td>7354.07</td>\n",
       "      <td>0.81760</td>\n",
       "      <td>0.000148</td>\n",
       "      <td>6.880372e-06</td>\n",
       "      <td>-1.553213</td>\n",
       "      <td>3.212238</td>\n",
       "    </tr>\n",
       "    <tr>\n",
       "      <th>7397</th>\n",
       "      <td>2022-06-10 14:45:00</td>\n",
       "      <td>7352.83</td>\n",
       "      <td>0.00000</td>\n",
       "      <td>-0.000169</td>\n",
       "      <td>6.965895e-06</td>\n",
       "      <td>-1.653777</td>\n",
       "      <td>3.460776</td>\n",
       "    </tr>\n",
       "    <tr>\n",
       "      <th>7398</th>\n",
       "      <td>2022-06-10 14:50:00</td>\n",
       "      <td>7352.13</td>\n",
       "      <td>0.00000</td>\n",
       "      <td>-0.000095</td>\n",
       "      <td>7.041021e-06</td>\n",
       "      <td>-1.730057</td>\n",
       "      <td>3.659552</td>\n",
       "    </tr>\n",
       "    <tr>\n",
       "      <th>7399</th>\n",
       "      <td>2022-06-10 14:55:00</td>\n",
       "      <td>7339.42</td>\n",
       "      <td>-0.20230</td>\n",
       "      <td>-0.001730</td>\n",
       "      <td>1.509707e-06</td>\n",
       "      <td>0.091685</td>\n",
       "      <td>1.823845</td>\n",
       "    </tr>\n",
       "    <tr>\n",
       "      <th>7400</th>\n",
       "      <td>2022-06-10 15:00:00</td>\n",
       "      <td>7343.24</td>\n",
       "      <td>-0.40085</td>\n",
       "      <td>0.000520</td>\n",
       "      <td>7.431461e-07</td>\n",
       "      <td>-1.680736</td>\n",
       "      <td>3.359556</td>\n",
       "    </tr>\n",
       "  </tbody>\n",
       "</table>\n",
       "<p>7401 rows × 7 columns</p>\n",
       "</div>"
      ],
      "text/plain": [
       "                    Date    price  Vader-Compound  log_return      variance  \\\n",
       "0    2022-01-04 09:25:00  7465.89         0.29295   -0.000591  7.295352e-07   \n",
       "1    2022-01-04 09:30:00  7468.29         0.00000    0.000321  5.071441e-07   \n",
       "2    2022-01-04 09:35:00  7475.91         0.34540    0.001020  5.681105e-07   \n",
       "3    2022-01-04 09:40:00  7480.16         0.00000    0.000568  3.452640e-07   \n",
       "4    2022-01-04 09:45:00  7482.55         0.00000    0.000319  3.450295e-07   \n",
       "...                  ...      ...             ...         ...           ...   \n",
       "7396 2022-06-10 14:40:00  7354.07         0.81760    0.000148  6.880372e-06   \n",
       "7397 2022-06-10 14:45:00  7352.83         0.00000   -0.000169  6.965895e-06   \n",
       "7398 2022-06-10 14:50:00  7352.13         0.00000   -0.000095  7.041021e-06   \n",
       "7399 2022-06-10 14:55:00  7339.42        -0.20230   -0.001730  1.509707e-06   \n",
       "7400 2022-06-10 15:00:00  7343.24        -0.40085    0.000520  7.431461e-07   \n",
       "\n",
       "      skewness  kurtosis  \n",
       "0     0.854009  0.236416  \n",
       "1     0.601678  1.561655  \n",
       "2    -0.470945  0.004838  \n",
       "3    -0.958749  2.067762  \n",
       "4    -0.881375  1.908226  \n",
       "...        ...       ...  \n",
       "7396 -1.553213  3.212238  \n",
       "7397 -1.653777  3.460776  \n",
       "7398 -1.730057  3.659552  \n",
       "7399  0.091685  1.823845  \n",
       "7400 -1.680736  3.359556  \n",
       "\n",
       "[7401 rows x 7 columns]"
      ]
     },
     "execution_count": 30,
     "metadata": {},
     "output_type": "execute_result"
    }
   ],
   "source": [
    "final_df"
   ]
  },
  {
   "cell_type": "code",
   "execution_count": 84,
   "id": "2fd106d1",
   "metadata": {},
   "outputs": [
    {
     "name": "stdout",
     "output_type": "stream",
     "text": [
      "(7400, 3) (7400,)\n"
     ]
    },
    {
     "data": {
      "text/html": [
       "<table class=\"simpletable\">\n",
       "<caption>OLS Regression Results</caption>\n",
       "<tr>\n",
       "  <th>Dep. Variable:</th>       <td>log_return</td>    <th>  R-squared:         </th>  <td>   0.000</td> \n",
       "</tr>\n",
       "<tr>\n",
       "  <th>Model:</th>                   <td>OLS</td>       <th>  Adj. R-squared:    </th>  <td>  -0.000</td> \n",
       "</tr>\n",
       "<tr>\n",
       "  <th>Method:</th>             <td>Least Squares</td>  <th>  F-statistic:       </th>  <td>  0.2382</td> \n",
       "</tr>\n",
       "<tr>\n",
       "  <th>Date:</th>             <td>Sun, 03 Jul 2022</td> <th>  Prob (F-statistic):</th>   <td> 0.788</td>  \n",
       "</tr>\n",
       "<tr>\n",
       "  <th>Time:</th>                 <td>01:12:01</td>     <th>  Log-Likelihood:    </th>  <td>  5509.7</td> \n",
       "</tr>\n",
       "<tr>\n",
       "  <th>No. Observations:</th>      <td>  4440</td>      <th>  AIC:               </th> <td>-1.101e+04</td>\n",
       "</tr>\n",
       "<tr>\n",
       "  <th>Df Residuals:</th>          <td>  4437</td>      <th>  BIC:               </th> <td>-1.099e+04</td>\n",
       "</tr>\n",
       "<tr>\n",
       "  <th>Df Model:</th>              <td>     2</td>      <th>                     </th>      <td> </td>    \n",
       "</tr>\n",
       "<tr>\n",
       "  <th>Covariance Type:</th>      <td>nonrobust</td>    <th>                     </th>      <td> </td>    \n",
       "</tr>\n",
       "</table>\n",
       "<table class=\"simpletable\">\n",
       "<tr>\n",
       "    <td></td>       <th>coef</th>     <th>std err</th>      <th>t</th>      <th>P>|t|</th>  <th>[0.025</th>    <th>0.975]</th>  \n",
       "</tr>\n",
       "<tr>\n",
       "  <th>const</th> <td>    0.4893</td> <td>    0.007</td> <td>   65.821</td> <td> 0.000</td> <td>    0.475</td> <td>    0.504</td>\n",
       "</tr>\n",
       "<tr>\n",
       "  <th>x1</th>    <td>-3.889e-05</td> <td>    0.015</td> <td>   -0.003</td> <td> 0.998</td> <td>   -0.029</td> <td>    0.029</td>\n",
       "</tr>\n",
       "<tr>\n",
       "  <th>x2</th>    <td>    0.0031</td> <td>    0.005</td> <td>    0.690</td> <td> 0.490</td> <td>   -0.006</td> <td>    0.012</td>\n",
       "</tr>\n",
       "</table>\n",
       "<table class=\"simpletable\">\n",
       "<tr>\n",
       "  <th>Omnibus:</th>       <td>535.647</td> <th>  Durbin-Watson:     </th> <td>   2.000</td>\n",
       "</tr>\n",
       "<tr>\n",
       "  <th>Prob(Omnibus):</th> <td> 0.000</td>  <th>  Jarque-Bera (JB):  </th> <td>5725.594</td>\n",
       "</tr>\n",
       "<tr>\n",
       "  <th>Skew:</th>          <td>-0.022</td>  <th>  Prob(JB):          </th> <td>    0.00</td>\n",
       "</tr>\n",
       "<tr>\n",
       "  <th>Kurtosis:</th>      <td> 8.563</td>  <th>  Cond. No.          </th> <td>    17.8</td>\n",
       "</tr>\n",
       "</table><br/><br/>Notes:<br/>[1] Standard Errors assume that the covariance matrix of the errors is correctly specified."
      ],
      "text/plain": [
       "<class 'statsmodels.iolib.summary.Summary'>\n",
       "\"\"\"\n",
       "                            OLS Regression Results                            \n",
       "==============================================================================\n",
       "Dep. Variable:             log_return   R-squared:                       0.000\n",
       "Model:                            OLS   Adj. R-squared:                 -0.000\n",
       "Method:                 Least Squares   F-statistic:                    0.2382\n",
       "Date:                Sun, 03 Jul 2022   Prob (F-statistic):              0.788\n",
       "Time:                        01:12:01   Log-Likelihood:                 5509.7\n",
       "No. Observations:                4440   AIC:                        -1.101e+04\n",
       "Df Residuals:                    4437   BIC:                        -1.099e+04\n",
       "Df Model:                           2                                         \n",
       "Covariance Type:            nonrobust                                         \n",
       "==============================================================================\n",
       "                 coef    std err          t      P>|t|      [0.025      0.975]\n",
       "------------------------------------------------------------------------------\n",
       "const          0.4893      0.007     65.821      0.000       0.475       0.504\n",
       "x1         -3.889e-05      0.015     -0.003      0.998      -0.029       0.029\n",
       "x2             0.0031      0.005      0.690      0.490      -0.006       0.012\n",
       "==============================================================================\n",
       "Omnibus:                      535.647   Durbin-Watson:                   2.000\n",
       "Prob(Omnibus):                  0.000   Jarque-Bera (JB):             5725.594\n",
       "Skew:                          -0.022   Prob(JB):                         0.00\n",
       "Kurtosis:                       8.563   Cond. No.                         17.8\n",
       "==============================================================================\n",
       "\n",
       "Notes:\n",
       "[1] Standard Errors assume that the covariance matrix of the errors is correctly specified.\n",
       "\"\"\""
      ]
     },
     "execution_count": 84,
     "metadata": {},
     "output_type": "execute_result"
    }
   ],
   "source": [
    "#Scale the data\n",
    "data = final_df['log_return']\n",
    "data_scaled = (data-data.min())/(data.max()-data.min())\n",
    "\n",
    "#Add constant c\n",
    "data_scaled = sm.add_constant(data_scaled)\n",
    "\n",
    "#Split train and test sets\n",
    "split = int(0.60 * data.shape[0])\n",
    "X = data_scaled\n",
    "X_tweet = final_df['Vader-Compound']\n",
    "X_tot = np.column_stack((X,X_tweet))\n",
    "y = data_scaled.shift(-1)['log_return']\n",
    "y = y.dropna()\n",
    "X_tot = X_tot[:len(y)]\n",
    "print(X_tot.shape,y.shape)\n",
    "split = int(0.60 * X_tot.shape[0])\n",
    "X_train, X_test = X_tot[:split], X_tot[split:]\n",
    "y_train, y_test = y[:split], y[split:]\n",
    "results = sm.OLS(y_train, X_train).fit()\n",
    "results.summary()"
   ]
  },
  {
   "cell_type": "code",
   "execution_count": 89,
   "id": "b84d3ff5",
   "metadata": {},
   "outputs": [
    {
     "name": "stdout",
     "output_type": "stream",
     "text": [
      "(7379, 5) (7379,)\n"
     ]
    },
    {
     "data": {
      "text/html": [
       "<table class=\"simpletable\">\n",
       "<caption>OLS Regression Results</caption>\n",
       "<tr>\n",
       "  <th>Dep. Variable:</th>       <td>log_return</td>    <th>  R-squared:         </th>  <td>   0.003</td> \n",
       "</tr>\n",
       "<tr>\n",
       "  <th>Model:</th>                   <td>OLS</td>       <th>  Adj. R-squared:    </th>  <td>   0.002</td> \n",
       "</tr>\n",
       "<tr>\n",
       "  <th>Method:</th>             <td>Least Squares</td>  <th>  F-statistic:       </th>  <td>   2.836</td> \n",
       "</tr>\n",
       "<tr>\n",
       "  <th>Date:</th>             <td>Sun, 03 Jul 2022</td> <th>  Prob (F-statistic):</th>   <td>0.0231</td>  \n",
       "</tr>\n",
       "<tr>\n",
       "  <th>Time:</th>                 <td>01:14:40</td>     <th>  Log-Likelihood:    </th>  <td>  5495.4</td> \n",
       "</tr>\n",
       "<tr>\n",
       "  <th>No. Observations:</th>      <td>  4427</td>      <th>  AIC:               </th> <td>-1.098e+04</td>\n",
       "</tr>\n",
       "<tr>\n",
       "  <th>Df Residuals:</th>          <td>  4422</td>      <th>  BIC:               </th> <td>-1.095e+04</td>\n",
       "</tr>\n",
       "<tr>\n",
       "  <th>Df Model:</th>              <td>     4</td>      <th>                     </th>      <td> </td>    \n",
       "</tr>\n",
       "<tr>\n",
       "  <th>Covariance Type:</th>      <td>nonrobust</td>    <th>                     </th>      <td> </td>    \n",
       "</tr>\n",
       "</table>\n",
       "<table class=\"simpletable\">\n",
       "<tr>\n",
       "    <td></td>       <th>coef</th>     <th>std err</th>      <th>t</th>      <th>P>|t|</th>  <th>[0.025</th>    <th>0.975]</th>  \n",
       "</tr>\n",
       "<tr>\n",
       "  <th>const</th> <td>    0.4894</td> <td>    0.037</td> <td>   13.350</td> <td> 0.000</td> <td>    0.418</td> <td>    0.561</td>\n",
       "</tr>\n",
       "<tr>\n",
       "  <th>x1</th>    <td>   -0.0237</td> <td>    0.015</td> <td>   -1.535</td> <td> 0.125</td> <td>   -0.054</td> <td>    0.007</td>\n",
       "</tr>\n",
       "<tr>\n",
       "  <th>x2</th>    <td>   -0.0237</td> <td>    0.008</td> <td>   -3.004</td> <td> 0.003</td> <td>   -0.039</td> <td>   -0.008</td>\n",
       "</tr>\n",
       "<tr>\n",
       "  <th>x3</th>    <td>    0.0065</td> <td>    0.004</td> <td>    1.616</td> <td> 0.106</td> <td>   -0.001</td> <td>    0.014</td>\n",
       "</tr>\n",
       "<tr>\n",
       "  <th>x4</th>    <td>    0.0032</td> <td>    0.005</td> <td>    0.703</td> <td> 0.482</td> <td>   -0.006</td> <td>    0.012</td>\n",
       "</tr>\n",
       "</table>\n",
       "<table class=\"simpletable\">\n",
       "<tr>\n",
       "  <th>Omnibus:</th>       <td>533.704</td> <th>  Durbin-Watson:     </th> <td>   1.969</td>\n",
       "</tr>\n",
       "<tr>\n",
       "  <th>Prob(Omnibus):</th> <td> 0.000</td>  <th>  Jarque-Bera (JB):  </th> <td>5700.590</td>\n",
       "</tr>\n",
       "<tr>\n",
       "  <th>Skew:</th>          <td>-0.018</td>  <th>  Prob(JB):          </th> <td>    0.00</td>\n",
       "</tr>\n",
       "<tr>\n",
       "  <th>Kurtosis:</th>      <td> 8.559</td>  <th>  Cond. No.          </th> <td>    389.</td>\n",
       "</tr>\n",
       "</table><br/><br/>Notes:<br/>[1] Standard Errors assume that the covariance matrix of the errors is correctly specified."
      ],
      "text/plain": [
       "<class 'statsmodels.iolib.summary.Summary'>\n",
       "\"\"\"\n",
       "                            OLS Regression Results                            \n",
       "==============================================================================\n",
       "Dep. Variable:             log_return   R-squared:                       0.003\n",
       "Model:                            OLS   Adj. R-squared:                  0.002\n",
       "Method:                 Least Squares   F-statistic:                     2.836\n",
       "Date:                Sun, 03 Jul 2022   Prob (F-statistic):             0.0231\n",
       "Time:                        01:14:40   Log-Likelihood:                 5495.4\n",
       "No. Observations:                4427   AIC:                        -1.098e+04\n",
       "Df Residuals:                    4422   BIC:                        -1.095e+04\n",
       "Df Model:                           4                                         \n",
       "Covariance Type:            nonrobust                                         \n",
       "==============================================================================\n",
       "                 coef    std err          t      P>|t|      [0.025      0.975]\n",
       "------------------------------------------------------------------------------\n",
       "const          0.4894      0.037     13.350      0.000       0.418       0.561\n",
       "x1            -0.0237      0.015     -1.535      0.125      -0.054       0.007\n",
       "x2            -0.0237      0.008     -3.004      0.003      -0.039      -0.008\n",
       "x3             0.0065      0.004      1.616      0.106      -0.001       0.014\n",
       "x4             0.0032      0.005      0.703      0.482      -0.006       0.012\n",
       "==============================================================================\n",
       "Omnibus:                      533.704   Durbin-Watson:                   1.969\n",
       "Prob(Omnibus):                  0.000   Jarque-Bera (JB):             5700.590\n",
       "Skew:                          -0.018   Prob(JB):                         0.00\n",
       "Kurtosis:                       8.559   Cond. No.                         389.\n",
       "==============================================================================\n",
       "\n",
       "Notes:\n",
       "[1] Standard Errors assume that the covariance matrix of the errors is correctly specified.\n",
       "\"\"\""
      ]
     },
     "execution_count": 89,
     "metadata": {},
     "output_type": "execute_result"
    }
   ],
   "source": [
    "def get_lag(data):\n",
    "    lag_data = []\n",
    "    for i in range(1,23):\n",
    "        temp = data.shift(i)\n",
    "        lag_data.append(temp)\n",
    "\n",
    "    ldf = pd.DataFrame(lag_data)\n",
    "    ldf = ldf.T\n",
    "    ldf.columns = [\"lag\"+ str(i) for i in range(1,23)]\n",
    "    ldf.reset_index(drop=True,inplace=True)\n",
    "    ldf = ldf.iloc[22:,:]\n",
    "    return ldf\n",
    "data = final_df['log_return']\n",
    "data_scaled = (data-data.min())/(data.max()-data.min())\n",
    "ldf = get_lag(data_scaled)\n",
    "#print(ldf)\n",
    "data_scaled = sm.add_constant(data_scaled)\n",
    "X = data_scaled\n",
    "X5 = ldf.iloc[:,:5].sum(axis=1)\n",
    "X22 = ldf.iloc[:,:22].sum(axis=1)\n",
    "# X5 = X5[:len(X22)]\n",
    "X = X[:len(X22)]\n",
    "X = np.array(X)\n",
    "X5 = np.array(X5)\n",
    "X22 = np.array(X22)\n",
    "X_tweet = final_df['Vader-Compound']\n",
    "X_tweet = X_tweet[:len(X22)]\n",
    "X_tot = np.column_stack((X,X5,X22,X_tweet))\n",
    "#X_tot = X_tot[:-1,:]\n",
    "y = data_scaled.shift(-22)['log_return']\n",
    "y = y.dropna()\n",
    "print(X_tot.shape,y.shape)\n",
    "split = int(0.60 * X_tot.shape[0])\n",
    "X_train, X_test = X_tot[:split], X_tot[split:]\n",
    "y_train, y_test = y[:split], y[split:]\n",
    "results = sm.OLS(y_train, X_train).fit()\n",
    "results.summary()"
   ]
  },
  {
   "cell_type": "code",
   "execution_count": 90,
   "id": "007d8729",
   "metadata": {},
   "outputs": [
    {
     "data": {
      "image/png": "[encoded data removed]",
      "text/plain": [
       "<Figure size 1008x360 with 2 Axes>"
      ]
     },
     "metadata": {
      "needs_background": "light"
     },
     "output_type": "display_data"
    },
    {
     "data": {
      "image/png": "[encoded data removed]",
      "text/plain": [
       "<Figure size 432x288 with 1 Axes>"
      ]
     },
     "metadata": {
      "needs_background": "light"
     },
     "output_type": "display_data"
    }
   ],
   "source": [
    "# Perform out of sample prediction\n",
    "y_hat = results.predict(X_test)\n",
    "\n",
    "plt.figure(figsize = (14,5))\n",
    "\n",
    "#Predicted RV\n",
    "plt.subplot(1,2,1)\n",
    "plt.plot(y_test.index, y_hat)\n",
    "plt.title(\"Predicted log_returns\")\n",
    "\n",
    "#Actual RV\n",
    "plt.subplot(1,2,2)\n",
    "plt.plot(y_test.index, y_test, color = \"orange\")\n",
    "plt.title(\"Actual log_returns\")\n",
    "plt.show()\n",
    "\n",
    "plt.scatter(y_test, y_hat)\n",
    "plt.title(\"Predicted vs observed log_returns\")\n",
    "plt.show()"
   ]
  },
  {
   "cell_type": "markdown",
   "id": "1173c652",
   "metadata": {},
   "source": [
    "* we can see that the predicted values after introducing the tweeter sentiments got more noisy and hence the performance weakened"
   ]
  },
  {
   "cell_type": "code",
   "execution_count": 91,
   "id": "3eb04fb5",
   "metadata": {},
   "outputs": [
    {
     "name": "stdout",
     "output_type": "stream",
     "text": [
      "In-sample scores\n",
      "MSE:0.0048899778672470565, R^2:0.0025588235504829804, MAE:0.047706823278089464\n",
      "----------------\n",
      "Out-of-sample scores\n",
      "MSE:0.0029600063401669487, R^2:-0.006973206442357993, MAE:0.03985502888323508\n"
     ]
    }
   ],
   "source": [
    "## Metrics\n",
    "def score(y_hat, y, metric):\n",
    "    if metric == \"MSE\": \n",
    "        return np.mean( (y_hat-y)**2)\n",
    "    elif metric == \"R_squared\":\n",
    "        ss_res = np.sum( (y - y_hat)**2 )\n",
    "        ss_tot = np.sum( (y - np.average(y)) **2)\n",
    "        return 1 - ss_res/ss_tot\n",
    "    elif metric == \"MAE\":\n",
    "        return np.mean( np.abs(y-y_hat))\n",
    "#In-sample scores\n",
    "print(\"In-sample scores\")\n",
    "\n",
    "y_hat_is = results.predict(X_train)\n",
    "mse_is = score(y_hat_is, y_train.values.ravel(), \"MSE\")\n",
    "r_sq_is = score(y_hat_is, y_train.values.ravel(), \"R_squared\")\n",
    "mae_is = score(y_hat_is, y_train.values.ravel(), \"MAE\")\n",
    "\n",
    "print(f\"MSE:{mse_is}, R^2:{r_sq_is}, MAE:{mae_is}\")      \n",
    "\n",
    "print(\"----------------\")\n",
    "               \n",
    "#Out-of-sample scores\n",
    "print(\"Out-of-sample scores\")\n",
    "               \n",
    "mse_oos = score(y_hat, y_test.values.ravel(), \"MSE\")\n",
    "r_sq_oos = score(y_hat, y_test.values.ravel(), \"R_squared\")\n",
    "mae_oos = score(y_hat, y_test.values.ravel(), \"MAE\")\n",
    "\n",
    "print(f\"MSE:{mse_oos}, R^2:{r_sq_oos}, MAE:{mae_oos}\")"
   ]
  },
  {
   "cell_type": "code",
   "execution_count": null,
   "id": "6f23d4b0",
   "metadata": {},
   "outputs": [],
   "source": []
  }
 ],
 "metadata": {
  "kernelspec": {
   "display_name": "Python 3",
   "language": "python",
   "name": "python3"
  },
  "language_info": {
   "codemirror_mode": {
    "name": "ipython",
    "version": 3
   },
   "file_extension": ".py",
   "mimetype": "text/x-python",
   "name": "python",
   "nbconvert_exporter": "python",
   "pygments_lexer": "ipython3",
   "version": "3.8.8"
  }
 },
 "nbformat": 4,
 "nbformat_minor": 5
}
